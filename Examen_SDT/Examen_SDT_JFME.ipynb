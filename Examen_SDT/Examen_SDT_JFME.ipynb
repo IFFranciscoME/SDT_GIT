{
 "cells": [
  {
   "cell_type": "markdown",
   "metadata": {},
   "source": [
    "<img src=\"http://oci02.img.iteso.mx/identidad_de_instancia_2018/ITESO/Logos%20ITESO/Logo-ITESO-Principal.jpg\">"
   ]
  },
  {
   "cell_type": "markdown",
   "metadata": {},
   "source": [
    "<center><font color=#004A94><font size=6> Maestría en Ciencia de Datos </font> <br> <br>\n",
    "\n",
    "<center><font color=#004A94><font size=5> SERIES DE TIEMPO </font> <br> <br>\n",
    "\n",
    "<center><font color=#42c29b><font size=5> Msc Juan Francisco Muñoz Elguezabal </font> <br> <br>\n",
    "   \n",
    "<center> <font color= #047CFB> <font size = 4> Mayo 2020 </a></font> <center> <font color= #047CFB> <font size = 4> Repositorio: <a href='https://github.com/'>Link</a></font>"
   ]
  },
  {
   "cell_type": "markdown",
   "metadata": {},
   "source": [
    "<br>"
   ]
  },
  {
   "cell_type": "markdown",
   "metadata": {},
   "source": [
    "---"
   ]
  },
  {
   "cell_type": "markdown",
   "metadata": {},
   "source": [
    "<br>"
   ]
  },
  {
   "cell_type": "markdown",
   "metadata": {},
   "source": [
    "<center> <font color= #004A94> <font size = 7> Box Jenkins </font> <br> <br> <font color= #047CFB> <font size = 5> Método para modelación de series de tiempo </font>"
   ]
  },
  {
   "cell_type": "markdown",
   "metadata": {},
   "source": [
    "<br>"
   ]
  },
  {
   "cell_type": "markdown",
   "metadata": {},
   "source": [
    "# <font color= #047CFB> <font size = 5> Abstract </font>"
   ]
  },
  {
   "cell_type": "markdown",
   "metadata": {},
   "source": [
    "<font color= #6B6B6B> <font size = 2> Este documento fue elaborado por . </font>"
   ]
  },
  {
   "cell_type": "markdown",
   "metadata": {},
   "source": [
    "<br>"
   ]
  },
  {
   "cell_type": "markdown",
   "metadata": {},
   "source": [
    "# <font color= #6B6B6B> <font size = 5> Cargar librerías y datos a utilizar </font>"
   ]
  },
  {
   "cell_type": "markdown",
   "metadata": {},
   "source": [
    "***"
   ]
  },
  {
   "cell_type": "code",
   "execution_count": null,
   "metadata": {},
   "outputs": [],
   "source": [
    "# -- ---------------------------------------------------------------- Paquetes a utilizar -- #\n",
    "# -- ------------------------------------------------------------------------------------ -- #\n",
    "\n",
    "# Remover Objetos de Environment\n",
    "rm(list=ls())\n",
    "\n",
    "# Codigo para cargar paquetes, si no estan instalados, los instala en automatico\n",
    "pkg <- c(\"dplyr\", \"forecast\", \"fUnitRoots\", \"ggplot2\", \"TSA\")\n",
    "\n",
    "# Modificar verbose = TRUE para visualizar mensajes de consola\n",
    "\n",
    "inst <- pkg %in% installed.packages()\n",
    "if(length(pkg[!inst]) > 0)\n",
    "  install.packages(pkg[!inst], quiet = TRUE, verbose = FALSE)\n",
    "instpackages <- lapply(pkg, library, character.only=TRUE)\n",
    "\n",
    "# -- ------------------------------------------------------------------- Scripts de apoyo -- #\n",
    "# -- ------------------------------------------------------------------------------------ -- #\n",
    "\n",
    "RawGitHub <- \"https://raw.githubusercontent.com/IFFranciscoME/\"\n",
    "DataVisualization <- paste(RawGitHub,\"RDataVisualization/master/RDataVisualization.R\",sep=\"\")\n",
    "downloader::source_url(DataVisualization,prompt=FALSE,quiet=TRUE)"
   ]
  },
  {
   "cell_type": "code",
   "execution_count": null,
   "metadata": {},
   "outputs": [],
   "source": [
    "# -- ------------------------------------------------------------ Cargar y preparar datos -- #\n",
    "# -- ------------------------------------------------------------------------------------ -- #\n",
    "\n",
    "data        <- read.csv(\"datos/examen_iteso.csv\")\n",
    "no_examen   <- 1\n",
    "data_examen <- data[:, 1]"
   ]
  },
  {
   "cell_type": "markdown",
   "metadata": {},
   "source": [
    "# Notas para el examen\n",
    "Habrá una varias columnas, cada una una serie, a cada estudiante se le asigna una serie. \n",
    ":) entonces voy a hacer un código que lea todas las columnas y compile las respuestas de todos."
   ]
  },
  {
   "cell_type": "markdown",
   "metadata": {},
   "source": [
    "# <font color= #6B6B6B> <font size = 6> Método de Box-Jenkins </font>"
   ]
  },
  {
   "cell_type": "markdown",
   "metadata": {},
   "source": [
    "<font color= #6B6B6B> <font size = 4> Texto modificado para ... </font>"
   ]
  },
  {
   "cell_type": "markdown",
   "metadata": {},
   "source": [
    "# <font color= #6B6B6B> <font size = 5> Paso 0: Graficar la serie </font>"
   ]
  },
  {
   "cell_type": "markdown",
   "metadata": {},
   "source": [
    "***"
   ]
  },
  {
   "cell_type": "markdown",
   "metadata": {},
   "source": [
    "<font color= #6B6B6B> <font size = 4> Texto modificado para ... </font>"
   ]
  },
  {
   "cell_type": "code",
   "execution_count": null,
   "metadata": {},
   "outputs": [],
   "source": [
    "# Codigo"
   ]
  },
  {
   "cell_type": "markdown",
   "metadata": {},
   "source": [
    "# <font color= #6B6B6B> <font size = 5> Paso 1: Prueba de estacionariedad </font>"
   ]
  },
  {
   "cell_type": "markdown",
   "metadata": {},
   "source": [
    "***"
   ]
  },
  {
   "cell_type": "markdown",
   "metadata": {},
   "source": [
    "<font color= #6B6B6B> <font size = 4> Texto modificado para ... </font>"
   ]
  },
  {
   "cell_type": "code",
   "execution_count": null,
   "metadata": {},
   "outputs": [],
   "source": []
  },
  {
   "cell_type": "markdown",
   "metadata": {},
   "source": [
    "# <font color= #6B6B6B> <font size = 5> Paso 2: Pruebas de autocorrelación y autocorrelación parcial </font>"
   ]
  },
  {
   "cell_type": "markdown",
   "metadata": {},
   "source": [
    "***"
   ]
  },
  {
   "cell_type": "markdown",
   "metadata": {},
   "source": [
    "<font color= #6B6B6B> <font size = 4> Texto modificado para ... </font>"
   ]
  },
  {
   "cell_type": "code",
   "execution_count": null,
   "metadata": {},
   "outputs": [],
   "source": []
  },
  {
   "cell_type": "markdown",
   "metadata": {},
   "source": [
    "# <font color= #6B6B6B> <font size = 5> Paso 3: Estimación de parámetros </font>"
   ]
  },
  {
   "cell_type": "markdown",
   "metadata": {},
   "source": [
    "***"
   ]
  },
  {
   "cell_type": "markdown",
   "metadata": {},
   "source": [
    "<font color= #6B6B6B> <font size = 4> Texto modificado para ... </font>"
   ]
  },
  {
   "cell_type": "code",
   "execution_count": null,
   "metadata": {},
   "outputs": [],
   "source": []
  },
  {
   "cell_type": "markdown",
   "metadata": {},
   "source": [
    "# <font color= #6B6B6B> <font size = 5> Paso 4: Pruebas a residuales </font>"
   ]
  },
  {
   "cell_type": "markdown",
   "metadata": {},
   "source": [
    "***"
   ]
  },
  {
   "cell_type": "markdown",
   "metadata": {},
   "source": [
    "<font color= #6B6B6B> <font size = 4> Texto modificado para ... </font>"
   ]
  },
  {
   "cell_type": "code",
   "execution_count": null,
   "metadata": {},
   "outputs": [],
   "source": []
  }
 ],
 "metadata": {
  "kernelspec": {
   "display_name": "R",
   "language": "R",
   "name": "ir"
  },
  "language_info": {
   "codemirror_mode": "r",
   "file_extension": ".r",
   "mimetype": "text/x-r-source",
   "name": "R",
   "pygments_lexer": "r",
   "version": "3.6.3"
  }
 },
 "nbformat": 4,
 "nbformat_minor": 4
}
